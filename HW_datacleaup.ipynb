{
 "cells": [
  {
   "cell_type": "code",
   "execution_count": 1,
   "metadata": {},
   "outputs": [],
   "source": [
    "# Dependencies\n",
    "import pandas as pd\n"
   ]
  },
  {
   "cell_type": "code",
   "execution_count": 2,
   "metadata": {},
   "outputs": [],
   "source": [
    "# read in excel file\n",
    "file_2015 = 'happiness_data/2015.csv'\n",
    "file_2016 = 'happiness_data/2016.csv'\n",
    "file_2017 = 'happiness_data/2017.csv'\n",
    "\n",
    "happiness_data_2015 = pd.read_csv(file_2015)\n",
    "happiness_data_2016 = pd.read_csv(file_2016)\n",
    "happiness_data_2017 = pd.read_csv(file_2017)\n",
    "\n",
    "#add year column\n",
    "happiness_data_2015['Year']= 2015\n",
    "happiness_data_2016['Year']= 2016\n",
    "happiness_data_2017['Year']= 2017\n",
    "\n",
    "#concatenate our data together\n",
    "list_data = [happiness_data_2015, happiness_data_2016, happiness_data_2017]\n",
    "\n",
    "\n",
    "# happiness_data = pd.concat(list_data)\n",
    "\n",
    "# happiness_data.head()\n",
    "\n",
    "happiness_data_2017 = happiness_data_2017.rename(columns={'Happiness.Rank': 'Happiness Rank', \n",
    "                                                          'Happiness.Score': 'Happiness Score',\n",
    "                                                          'Economy..GDP.per.Capita.' : 'Economy (GDP per Capita)',\n",
    "                                                          'Health..Life.Expectancy.' : 'Health (Life Expectancy)',\n",
    "                                                          'Trust..Government.Corruption.' : 'Trust (Government Corruption)', \n",
    "                                                          'Dystopia.Residual' : 'Dystopia Residual'})\n",
    "\n",
    "\n",
    "happiness_data_2015 = happiness_data_2015[['Country', 'Region', 'Happiness Rank', 'Happiness Score', \n",
    "                                          'Economy (GDP per Capita)', 'Family', 'Health (Life Expectancy)', \n",
    "                                          'Freedom', 'Trust (Government Corruption)','Generosity', \n",
    "                                          'Dystopia Residual', 'Year']]\n",
    "happiness_data_2016 = happiness_data_2016[['Country', 'Region', 'Happiness Rank', 'Happiness Score', \n",
    "                                          'Economy (GDP per Capita)', 'Family', 'Health (Life Expectancy)', \n",
    "                                          'Freedom', 'Trust (Government Corruption)','Generosity', \n",
    "                                          'Dystopia Residual', 'Year']]\n",
    "happiness_data_2017 = happiness_data_2017[['Country', 'Happiness Rank', 'Happiness Score', \n",
    "                                          'Economy (GDP per Capita)', 'Family', 'Health (Life Expectancy)', \n",
    "                                          'Freedom', 'Trust (Government Corruption)','Generosity', \n",
    "                                          'Dystopia Residual', 'Year']]"
   ]
  },
  {
   "cell_type": "code",
   "execution_count": null,
   "metadata": {},
   "outputs": [],
   "source": []
  }
 ],
 "metadata": {
  "kernelspec": {
   "display_name": "Python [default]",
   "language": "python",
   "name": "python3"
  },
  "language_info": {
   "codemirror_mode": {
    "name": "ipython",
    "version": 3
   },
   "file_extension": ".py",
   "mimetype": "text/x-python",
   "name": "python",
   "nbconvert_exporter": "python",
   "pygments_lexer": "ipython3",
   "version": "3.6.4"
  }
 },
 "nbformat": 4,
 "nbformat_minor": 2
}
