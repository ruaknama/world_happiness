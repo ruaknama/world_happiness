{
 "cells": [
  {
   "cell_type": "code",
   "execution_count": 1,
   "metadata": {},
   "outputs": [],
   "source": [
    "# Dependencies\n",
    "import pandas as pd\n",
    "import numpy as np\n",
    "import matplotlib.pyplot as plt"
   ]
  },
  {
   "cell_type": "code",
   "execution_count": null,
   "metadata": {},
   "outputs": [],
   "source": [
    "# read in excel file\n",
    "file_2015 = 'happiness_data/2015.csv'\n",
    "file_2016 = 'happiness_data/2016.csv'\n",
    "file_2017 = 'happiness_data/2017.csv'\n",
    "\n",
    "happiness_data_2015 = pd.read_csv(file_2015)\n",
    "happiness_data_2016 = pd.read_csv(file_2016)\n",
    "happiness_data_2017 = pd.read_csv(file_2017)\n",
    "\n",
    "#add year column\n",
    "happiness_data_2015['Year']= 2015\n",
    "happiness_data_2016['Year']= 2016\n",
    "happiness_data_2017['Year']= 2017\n",
    "\n",
    "#get ready to concatenate our data together\n",
    "list_data = [happiness_data_2015, happiness_data_2016, happiness_data_2017]\n",
    "\n",
    "\n",
    "# happiness_data = pd.concat(list_data)\n",
    "\n",
    "# happiness_data.head()\n",
    "\n",
    "#match column names in all three data files\n",
    "happiness_data_2017 = happiness_data_2017.rename(columns={'Happiness.Rank': 'Happiness Rank', \n",
    "                                                          'Happiness.Score': 'Happiness Score',\n",
    "                                                          'Economy..GDP.per.Capita.' : 'Economy (GDP per Capita)',\n",
    "                                                          'Health..Life.Expectancy.' : 'Health (Life Expectancy)',\n",
    "                                                          'Trust..Government.Corruption.' : 'Trust (Government Corruption)', \n",
    "                                                          'Dystopia.Residual' : 'Dystopia Residual'})\n",
    "\n",
    "happiness_data_2015 = happiness_data_2015[['Country', 'Region', 'Happiness Rank', 'Happiness Score', \n",
    "                                          'Economy (GDP per Capita)', 'Family', 'Health (Life Expectancy)', \n",
    "                                          'Freedom', 'Trust (Government Corruption)','Generosity', \n",
    "                                          'Dystopia Residual', 'Year']]\n",
    "happiness_data_2016 = happiness_data_2016[['Country', 'Region', 'Happiness Rank', 'Happiness Score', \n",
    "                                          'Economy (GDP per Capita)', 'Family', 'Health (Life Expectancy)', \n",
    "                                          'Freedom', 'Trust (Government Corruption)','Generosity', \n",
    "                                          'Dystopia Residual', 'Year']]\n",
    "happiness_data_2017 = happiness_data_2017[['Country', 'Happiness Rank', 'Happiness Score', \n",
    "                                          'Economy (GDP per Capita)', 'Family', 'Health (Life Expectancy)', \n",
    "                                          'Freedom', 'Trust (Government Corruption)','Generosity', \n",
    "                                          'Dystopia Residual', 'Year']]"
   ]
  },
  {
   "cell_type": "code",
   "execution_count": null,
   "metadata": {},
   "outputs": [],
   "source": [
    "#adding region column to 2017 data, cleaning up country/region names\n",
    "country_region = {}\n",
    "\n",
    "for i,row in happiness_data_2015.iterrows():\n",
    "       country_region.update({row['Country']:row['Region']})\n",
    "for i,row in happiness_data_2016.iterrows():\n",
    "       country_region.update({row['Country']:row['Region']})\n",
    "   \n",
    "happiness_data_2017['Region'] = ''\n",
    "\n",
    "try:\n",
    "       for i, row in happiness_data_2017.iterrows():\n",
    "           country = row['Country']\n",
    "           if country == 'Taiwan Province of China':\n",
    "                happiness_data_2017.at[i,'Country'] = 'Taiwan'\n",
    "                happiness_data_2017.at[i,'Region'] = 'Eastern Asia'\n",
    "           elif country == 'Belize':\n",
    "               happiness_data_2017.at[i,'Region'] = 'Latin America and Caribbean'\n",
    "           elif country == 'Hong Kong S.A.R., China':\n",
    "               happiness_data_2017.at[i,'Region'] = 'Eastern Asia'\n",
    "           elif country == 'Somalia':\n",
    "               happiness_data_2017.at[i,'Region'] = 'Sub-Saharan Africa'\n",
    "           else:\n",
    "               happiness_data_2017.at[i,'Region'] = country_region[country]\n",
    "except KeyError:\n",
    "       print(f\"Cannot find {country}\")\n",
    "       pass\n",
    "   \n",
    "#rearranging columns for cleaniness\n",
    "happiness_data_2017 = happiness_data_2017[['Year','Country', 'Region','Happiness Rank', 'Happiness Score', \n",
    "                                          'Economy (GDP per Capita)', 'Family', 'Health (Life Expectancy)', \n",
    "                                          'Freedom', 'Trust (Government Corruption)','Generosity', \n",
    "                                          'Dystopia Residual']]\n",
    "happiness_data_2015 = happiness_data_2015[['Year','Country', 'Region','Happiness Rank', 'Happiness Score', \n",
    "                                          'Economy (GDP per Capita)', 'Family', 'Health (Life Expectancy)', \n",
    "                                          'Freedom', 'Trust (Government Corruption)','Generosity', \n",
    "                                          'Dystopia Residual']]\n",
    "happiness_data_2016 = happiness_data_2016[['Year','Country', 'Region','Happiness Rank', 'Happiness Score', \n",
    "                                          'Economy (GDP per Capita)', 'Family', 'Health (Life Expectancy)', \n",
    "                                          'Freedom', 'Trust (Government Corruption)','Generosity', \n",
    "                                          'Dystopia Residual']]\n"
   ]
  },
  {
   "cell_type": "raw",
   "metadata": {},
   "source": [
    "    # Comparison of happiness by region"
   ]
  },
  {
   "cell_type": "code",
   "execution_count": null,
   "metadata": {},
   "outputs": [],
   "source": [
    "# plot regions by average happiness\n",
    "\n",
    "happiness_by_region_2017 = happiness_data_2017.groupby('Region')\n",
    "avg_happiness_by_region_2017 = happiness_by_region_2017['Happiness Score'].mean()\n",
    "avg_happiness_by_region_2017.plot(kind='bar', figsize=(10,4) )\n",
    "plt.show()"
   ]
  },
  {
   "cell_type": "code",
   "execution_count": null,
   "metadata": {},
   "outputs": [],
   "source": [
    "# plot regions by average happiness\n",
    "\n",
    "happiness_by_region_2016 = happiness_data_2016.groupby('Region')\n",
    "avg_happiness_by_region_2016 = happiness_by_region_2016['Happiness Score'].mean()\n",
    "avg_happiness_by_region_2016.plot(kind='bar', figsize=(10,4) )\n",
    "plt.show()"
   ]
  },
  {
   "cell_type": "code",
   "execution_count": null,
   "metadata": {},
   "outputs": [],
   "source": [
    "# plot regions by average happiness\n",
    "\n",
    "happiness_by_region_2015 = happiness_data_2015.groupby('Region')\n",
    "avg_happiness_by_region_2015 = happiness_by_region_2015['Happiness Score'].mean()\n",
    "avg_happiness_by_region_2015.plot(kind='bar', figsize=(10,4) )\n",
    "plt.show()"
   ]
  },
  {
   "cell_type": "code",
   "execution_count": null,
   "metadata": {},
   "outputs": [],
   "source": [
    "# do a variance comparison for the regions"
   ]
  },
  {
   "cell_type": "markdown",
   "metadata": {},
   "source": [
    "#  Analysis to study impact of internet usage on happiness"
   ]
  },
  {
   "cell_type": "markdown",
   "metadata": {},
   "source": [
    "Popular thought and policy seems to drive that internet usage leads to development and therefore happiness should increase amonmgst the population. A study of the data however, gives some interesting insights. Effect of Internet usage is subjective from country to country. While in some countries, it shows a positive relationship, in some it is neutral and in some cases even negative. We picked some example countries to highlight this.\n",
    "1) In the first case, countries like Aghanistan and to a certain extent China, show a positive co-relation. These could be attributed to the opening up effect that internet has to these countries as they were isolated earlier. The internet may also be an enabling factor to improve economic aspects.\n",
    "2) In the second case of little or no relationship seems to be for developed countries, like Japan, where a high majority of population has internet access, and the society is fairly homogenous. Given this, it looks like there is a point beyond which further internet usage increases have no signifcant impact.\n",
    "3) The third case where we see decreasing happiness with internet usage, is rather surprising. But it seems to be the case in some rapidly developing countries where internet and technology have played a significant impact. On further research and study, this may be attributed to the significant societal divisions that exist, like income or social divide. While many people have access to the internet and use it, other factors stop them from being able to derive benefit from it. And social media also tends to have a negative impact in such societies. In these cases, internet may actually be having a negative impact on people's happiness."
   ]
  },
  {
   "cell_type": "code",
   "execution_count": 2,
   "metadata": {},
   "outputs": [
    {
     "name": "stdout",
     "output_type": "stream",
     "text": [
      "country         object\n",
      "year             int64\n",
      "Life Ladder    float64\n",
      "dtype: object\n"
     ]
    },
    {
     "data": {
      "text/html": [
       "<div>\n",
       "<style scoped>\n",
       "    .dataframe tbody tr th:only-of-type {\n",
       "        vertical-align: middle;\n",
       "    }\n",
       "\n",
       "    .dataframe tbody tr th {\n",
       "        vertical-align: top;\n",
       "    }\n",
       "\n",
       "    .dataframe thead th {\n",
       "        text-align: right;\n",
       "    }\n",
       "</style>\n",
       "<table border=\"1\" class=\"dataframe\">\n",
       "  <thead>\n",
       "    <tr style=\"text-align: right;\">\n",
       "      <th></th>\n",
       "      <th>country</th>\n",
       "      <th>year</th>\n",
       "      <th>Life Ladder</th>\n",
       "    </tr>\n",
       "  </thead>\n",
       "  <tbody>\n",
       "    <tr>\n",
       "      <th>0</th>\n",
       "      <td>Afghanistan</td>\n",
       "      <td>2008</td>\n",
       "      <td>3.723590</td>\n",
       "    </tr>\n",
       "    <tr>\n",
       "      <th>1</th>\n",
       "      <td>Afghanistan</td>\n",
       "      <td>2009</td>\n",
       "      <td>4.401778</td>\n",
       "    </tr>\n",
       "    <tr>\n",
       "      <th>2</th>\n",
       "      <td>Afghanistan</td>\n",
       "      <td>2010</td>\n",
       "      <td>4.758381</td>\n",
       "    </tr>\n",
       "    <tr>\n",
       "      <th>3</th>\n",
       "      <td>Afghanistan</td>\n",
       "      <td>2011</td>\n",
       "      <td>3.831719</td>\n",
       "    </tr>\n",
       "    <tr>\n",
       "      <th>4</th>\n",
       "      <td>Afghanistan</td>\n",
       "      <td>2012</td>\n",
       "      <td>3.782938</td>\n",
       "    </tr>\n",
       "  </tbody>\n",
       "</table>\n",
       "</div>"
      ],
      "text/plain": [
       "       country  year  Life Ladder\n",
       "0  Afghanistan  2008     3.723590\n",
       "1  Afghanistan  2009     4.401778\n",
       "2  Afghanistan  2010     4.758381\n",
       "3  Afghanistan  2011     3.831719\n",
       "4  Afghanistan  2012     3.782938"
      ]
     },
     "execution_count": 2,
     "metadata": {},
     "output_type": "execute_result"
    }
   ],
   "source": [
    "#see effect of internet usage on happiness score\n",
    "happiness_data_historical = pd.read_csv('happiness_data/hapinnesscorehistorical.csv')\n",
    "print(happiness_data_historical.dtypes)\n",
    "happiness_data_historical.head()\n"
   ]
  },
  {
   "cell_type": "code",
   "execution_count": 3,
   "metadata": {},
   "outputs": [
    {
     "data": {
      "text/html": [
       "<div>\n",
       "<style scoped>\n",
       "    .dataframe tbody tr th:only-of-type {\n",
       "        vertical-align: middle;\n",
       "    }\n",
       "\n",
       "    .dataframe tbody tr th {\n",
       "        vertical-align: top;\n",
       "    }\n",
       "\n",
       "    .dataframe thead th {\n",
       "        text-align: right;\n",
       "    }\n",
       "</style>\n",
       "<table border=\"1\" class=\"dataframe\">\n",
       "  <thead>\n",
       "    <tr style=\"text-align: right;\">\n",
       "      <th></th>\n",
       "      <th>Country Name</th>\n",
       "      <th>Country Code</th>\n",
       "      <th>2008</th>\n",
       "      <th>2009</th>\n",
       "      <th>2010</th>\n",
       "      <th>2011</th>\n",
       "      <th>2012</th>\n",
       "      <th>2013</th>\n",
       "      <th>2014</th>\n",
       "      <th>2015</th>\n",
       "      <th>2016</th>\n",
       "      <th>2017</th>\n",
       "    </tr>\n",
       "  </thead>\n",
       "  <tbody>\n",
       "    <tr>\n",
       "      <th>0</th>\n",
       "      <td>Aruba</td>\n",
       "      <td>ABW</td>\n",
       "      <td>52.00</td>\n",
       "      <td>58.00</td>\n",
       "      <td>62.0</td>\n",
       "      <td>69.0</td>\n",
       "      <td>74.000000</td>\n",
       "      <td>78.9</td>\n",
       "      <td>83.78</td>\n",
       "      <td>88.661227</td>\n",
       "      <td>93.542454</td>\n",
       "      <td>NaN</td>\n",
       "    </tr>\n",
       "    <tr>\n",
       "      <th>1</th>\n",
       "      <td>Afghanistan</td>\n",
       "      <td>AFG</td>\n",
       "      <td>1.84</td>\n",
       "      <td>3.55</td>\n",
       "      <td>4.0</td>\n",
       "      <td>5.0</td>\n",
       "      <td>5.454545</td>\n",
       "      <td>5.9</td>\n",
       "      <td>7.00</td>\n",
       "      <td>8.260000</td>\n",
       "      <td>10.595726</td>\n",
       "      <td>NaN</td>\n",
       "    </tr>\n",
       "    <tr>\n",
       "      <th>2</th>\n",
       "      <td>Angola</td>\n",
       "      <td>AGO</td>\n",
       "      <td>1.90</td>\n",
       "      <td>2.30</td>\n",
       "      <td>2.8</td>\n",
       "      <td>3.1</td>\n",
       "      <td>6.500000</td>\n",
       "      <td>8.9</td>\n",
       "      <td>10.20</td>\n",
       "      <td>12.400000</td>\n",
       "      <td>13.000000</td>\n",
       "      <td>NaN</td>\n",
       "    </tr>\n",
       "    <tr>\n",
       "      <th>3</th>\n",
       "      <td>Albania</td>\n",
       "      <td>ALB</td>\n",
       "      <td>23.86</td>\n",
       "      <td>41.20</td>\n",
       "      <td>45.0</td>\n",
       "      <td>49.0</td>\n",
       "      <td>54.655959</td>\n",
       "      <td>57.2</td>\n",
       "      <td>60.10</td>\n",
       "      <td>63.252933</td>\n",
       "      <td>66.363445</td>\n",
       "      <td>NaN</td>\n",
       "    </tr>\n",
       "    <tr>\n",
       "      <th>4</th>\n",
       "      <td>Andorra</td>\n",
       "      <td>AND</td>\n",
       "      <td>70.04</td>\n",
       "      <td>78.53</td>\n",
       "      <td>81.0</td>\n",
       "      <td>81.0</td>\n",
       "      <td>86.434425</td>\n",
       "      <td>94.0</td>\n",
       "      <td>95.90</td>\n",
       "      <td>96.910000</td>\n",
       "      <td>97.930637</td>\n",
       "      <td>NaN</td>\n",
       "    </tr>\n",
       "  </tbody>\n",
       "</table>\n",
       "</div>"
      ],
      "text/plain": [
       "  Country Name Country Code   2008   2009  2010  2011       2012  2013   2014  \\\n",
       "0        Aruba          ABW  52.00  58.00  62.0  69.0  74.000000  78.9  83.78   \n",
       "1  Afghanistan          AFG   1.84   3.55   4.0   5.0   5.454545   5.9   7.00   \n",
       "2       Angola          AGO   1.90   2.30   2.8   3.1   6.500000   8.9  10.20   \n",
       "3      Albania          ALB  23.86  41.20  45.0  49.0  54.655959  57.2  60.10   \n",
       "4      Andorra          AND  70.04  78.53  81.0  81.0  86.434425  94.0  95.90   \n",
       "\n",
       "        2015       2016  2017  \n",
       "0  88.661227  93.542454   NaN  \n",
       "1   8.260000  10.595726   NaN  \n",
       "2  12.400000  13.000000   NaN  \n",
       "3  63.252933  66.363445   NaN  \n",
       "4  96.910000  97.930637   NaN  "
      ]
     },
     "execution_count": 3,
     "metadata": {},
     "output_type": "execute_result"
    }
   ],
   "source": [
    "internet_usage_historical = pd.read_csv('happiness_data/internetusage.csv', encoding='iso-8859-1')\n",
    "internet_usage_historical.head()"
   ]
  },
  {
   "cell_type": "code",
   "execution_count": 10,
   "metadata": {},
   "outputs": [
    {
     "data": {
      "image/png": "[encoded data removed]",
      "text/plain": [
       "<matplotlib.figure.Figure at 0x22c6d65c8d0>"
      ]
     },
     "metadata": {},
     "output_type": "display_data"
    }
   ],
   "source": [
    "## plot happiness and internet usage by year for \n",
    "country = \"India\"\n",
    "years = np.arange(2008,2017,1)\n",
    "\n",
    "happiness_scores = []\n",
    "internet_usage = []\n",
    "\n",
    "for yr in years :\n",
    "    hp_score = happiness_data_historical[(happiness_data_historical['country'] == country) & (happiness_data_historical['year']==yr)]\n",
    "    happiness_scores.append(hp_score.iloc[0]['Life Ladder'])\n",
    "    \n",
    "    int_use = internet_usage_historical[internet_usage_historical['Country Name']== country]\n",
    "    internet_usage.append((int_use.iloc[0][str(yr)])/10)\n",
    "\n",
    "#print(happiness_scores)\n",
    "#print(internet_usage)\n",
    "hp_handle, = plt.plot(years, happiness_scores, color=\"green\", label='Happiness')\n",
    "int_handle, = plt.plot(years, internet_usage, color=\"blue\", label='Internet Usage')\n",
    "plt.title(f\"Happiness vs Internet usage trend for {country}\")\n",
    "plt.xlabel(\"Year\")\n",
    "plt.ylabel(\"Happiness/Internet Usage\")\n",
    "plt.legend(handles=[hp_handle, int_handle], loc=\"upper right\")\n",
    "plt.savefig(f\"HapInt_{country}.png\")\n",
    "plt.show()"
   ]
  },
  {
   "cell_type": "code",
   "execution_count": 13,
   "metadata": {},
   "outputs": [
    {
     "data": {
      "image/png": "[encoded data removed]",
      "text/plain": [
       "<matplotlib.figure.Figure at 0x22c6e7e2cf8>"
      ]
     },
     "metadata": {},
     "output_type": "display_data"
    }
   ],
   "source": [
    "## plot happiness and internet usage by year for \n",
    "country = \"Afghanistan\"\n",
    "years = np.arange(2008,2017,1)\n",
    "\n",
    "happiness_scores = []\n",
    "internet_usage = []\n",
    "\n",
    "for yr in years :\n",
    "    hp_score = happiness_data_historical[(happiness_data_historical['country'] == country) & (happiness_data_historical['year']==yr)]\n",
    "    hp_score.reindex()\n",
    "    happiness_scores.append(hp_score.iloc[0]['Life Ladder'])\n",
    "    \n",
    "    int_use = internet_usage_historical[internet_usage_historical['Country Name']== country]\n",
    "    internet_usage.append((int_use.iloc[0][str(yr)])/10)\n",
    "\n",
    "#print(happiness_scores)\n",
    "#print(internet_usage)\n",
    "hp_handle, = plt.plot(years, happiness_scores, color=\"green\", label='Happiness')\n",
    "int_handle, = plt.plot(years, internet_usage, color=\"blue\", label='Internet Usage')\n",
    "plt.title(f\"Happiness vs Internet usage trend for {country}\")\n",
    "plt.xlabel(\"Year\")\n",
    "plt.ylabel(\"Happiness/Internet Usage\")\n",
    "plt.legend(handles=[hp_handle, int_handle])\n",
    "plt.savefig(f\"HapInt_{country}.png\")\n",
    "plt.show()"
   ]
  },
  {
   "cell_type": "code",
   "execution_count": 14,
   "metadata": {},
   "outputs": [
    {
     "data": {
      "image/png": "[encoded data removed]",
      "text/plain": [
       "<matplotlib.figure.Figure at 0x22c6e854668>"
      ]
     },
     "metadata": {},
     "output_type": "display_data"
    }
   ],
   "source": [
    "## plot happiness and internet usage by year for \n",
    "country = \"Japan\"\n",
    "years = np.arange(2008,2017,1)\n",
    "\n",
    "happiness_scores = []\n",
    "internet_usage = []\n",
    "\n",
    "for yr in years :\n",
    "    hp_score = happiness_data_historical[(happiness_data_historical['country'] == country) & (happiness_data_historical['year']==yr)]\n",
    "    hp_score.reindex()\n",
    "    happiness_scores.append(hp_score.iloc[0]['Life Ladder'])\n",
    "    \n",
    "    int_use = internet_usage_historical[internet_usage_historical['Country Name']== country]\n",
    "    internet_usage.append((int_use.iloc[0][str(yr)])/10)\n",
    "\n",
    "#print(happiness_scores)\n",
    "#print(internet_usage)\n",
    "hp_handle, = plt.plot(years, happiness_scores, color=\"green\", label='Happiness')\n",
    "int_handle, = plt.plot(years, internet_usage, color=\"blue\", label='Internet Usage')\n",
    "plt.title(f\"Happiness vs Internet usage trend for {country}\")\n",
    "plt.xlabel(\"Year\")\n",
    "plt.ylabel(\"Happiness/Internet Usage\")\n",
    "plt.legend(handles=[hp_handle, int_handle])\n",
    "plt.savefig(f\"HapInt_{country}.png\")\n",
    "plt.show()"
   ]
  },
  {
   "cell_type": "code",
   "execution_count": 15,
   "metadata": {},
   "outputs": [
    {
     "data": {
      "image/png": "[encoded data removed]",
      "text/plain": [
       "<matplotlib.figure.Figure at 0x22c6e8e1908>"
      ]
     },
     "metadata": {},
     "output_type": "display_data"
    }
   ],
   "source": [
    "## plot happiness and internet usage by year for \n",
    "country = \"China\"\n",
    "years = np.arange(2008,2017,1)\n",
    "\n",
    "happiness_scores = []\n",
    "internet_usage = []\n",
    "\n",
    "for yr in years :\n",
    "    hp_score = happiness_data_historical[(happiness_data_historical['country'] == country) & (happiness_data_historical['year']==yr)]\n",
    "    hp_score.reindex()\n",
    "    happiness_scores.append(hp_score.iloc[0]['Life Ladder'])\n",
    "    \n",
    "    int_use = internet_usage_historical[internet_usage_historical['Country Name']== country]\n",
    "    internet_usage.append((int_use.iloc[0][str(yr)])/10)\n",
    "\n",
    "#print(happiness_scores)\n",
    "#print(internet_usage)\n",
    "hp_handle, = plt.plot(years, happiness_scores, color=\"green\", label='Happiness')\n",
    "int_handle, = plt.plot(years, internet_usage, color=\"blue\", label='Internet Usage')\n",
    "plt.title(f\"Happiness vs Internet usage trend for {country}\")\n",
    "plt.xlabel(\"Year\")\n",
    "plt.ylabel(\"Happiness/Internet Usage\")\n",
    "plt.legend(handles=[hp_handle, int_handle])\n",
    "plt.savefig(f\"HapInt_{country}.png\")\n",
    "plt.show()"
   ]
  },
  {
   "cell_type": "code",
   "execution_count": null,
   "metadata": {},
   "outputs": [],
   "source": []
  }
 ],
 "metadata": {
  "kernelspec": {
   "display_name": "Python 3",
   "language": "python",
   "name": "python3"
  },
  "language_info": {
   "codemirror_mode": {
    "name": "ipython",
    "version": 3
   },
   "file_extension": ".py",
   "mimetype": "text/x-python",
   "name": "python",
   "nbconvert_exporter": "python",
   "pygments_lexer": "ipython3",
   "version": "3.6.4"
  }
 },
 "nbformat": 4,
 "nbformat_minor": 2
}
